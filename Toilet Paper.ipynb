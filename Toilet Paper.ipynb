{
 "cells": [
  {
   "cell_type": "code",
   "execution_count": 21,
   "metadata": {},
   "outputs": [],
   "source": [
    "import pandas as pd\n",
    "import matplotlib.pyplot as plt\n",
    "import seaborn as sns"
   ]
  },
  {
   "cell_type": "code",
   "execution_count": 51,
   "metadata": {},
   "outputs": [],
   "source": [
    "plt.style.use('tableau-colorblind10')"
   ]
  },
  {
   "cell_type": "code",
   "execution_count": 26,
   "metadata": {},
   "outputs": [],
   "source": [
    "plt.rcParams[\"figure.figsize\"] = (10,6)"
   ]
  },
  {
   "cell_type": "code",
   "execution_count": 17,
   "metadata": {},
   "outputs": [],
   "source": [
    "#load data\n",
    "data = pd.read_csv('Data/Topaq.csv')"
   ]
  },
  {
   "cell_type": "code",
   "execution_count": 18,
   "metadata": {
    "scrolled": false
   },
   "outputs": [
    {
     "name": "stdout",
     "output_type": "stream",
     "text": [
      "<class 'pandas.core.frame.DataFrame'>\n",
      "RangeIndex: 1029 entries, 0 to 1028\n",
      "Data columns (total 50 columns):\n",
      " #   Column               Non-Null Count  Dtype  \n",
      "---  ------               --------------  -----  \n",
      " 0   Unnamed: 0           1029 non-null   int64  \n",
      " 1   date                 1029 non-null   object \n",
      " 2   unit_session_id      1029 non-null   int64  \n",
      " 3   Age                  1029 non-null   int64  \n",
      " 4   BHI_A_1_r            1029 non-null   int64  \n",
      " 5   BHI_A_2_r            1029 non-null   int64  \n",
      " 6   BHI_A_3              1029 non-null   int64  \n",
      " 7   BHI_A_4              1029 non-null   int64  \n",
      " 8   BHI_C_1              1029 non-null   int64  \n",
      " 9   BHI_C_2_r            1029 non-null   int64  \n",
      " 10  BHI_C_3              1029 non-null   int64  \n",
      " 11  BHI_C_4_r            1029 non-null   int64  \n",
      " 12  BHI_E_1              1029 non-null   int64  \n",
      " 13  BHI_E_2_r            1029 non-null   int64  \n",
      " 14  BHI_E_3_r            1029 non-null   int64  \n",
      " 15  BHI_E_4              1029 non-null   int64  \n",
      " 16  BHI_HH_1             1029 non-null   int64  \n",
      " 17  BHI_HH_2_r           1029 non-null   int64  \n",
      " 18  BHI_HH_3_r           1029 non-null   int64  \n",
      " 19  BHI_HH_4_r           1029 non-null   int64  \n",
      " 20  BHI_O_1              1029 non-null   int64  \n",
      " 21  BHI_O_2_r            1029 non-null   int64  \n",
      " 22  BHI_O_3              1029 non-null   int64  \n",
      " 23  BHI_O_4              1029 non-null   int64  \n",
      " 24  BHI_X_1_r            1029 non-null   int64  \n",
      " 25  BHI_X_2              1029 non-null   int64  \n",
      " 26  BHI_X_3              1029 non-null   int64  \n",
      " 27  BHI_X_4_r            1029 non-null   int64  \n",
      " 28  Corona               1029 non-null   int64  \n",
      " 29  Curfew_1             1029 non-null   int64  \n",
      " 30  Curfew_1_1           800 non-null    float64\n",
      " 31  Curfew_1_2           800 non-null    float64\n",
      " 32  Curfew_2             1029 non-null   int64  \n",
      " 33  Curfew_2_1           1016 non-null   float64\n",
      " 34  Curfew_2_2           1016 non-null   float64\n",
      " 35  Curfew_2_3           1016 non-null   float64\n",
      " 36  Gender               1029 non-null   int64  \n",
      " 37  Household_Size       1029 non-null   int64  \n",
      " 38  Left_Right_Politics  1029 non-null   int64  \n",
      " 39  Nationality          1029 non-null   object \n",
      " 40  Residence            1029 non-null   object \n",
      " 41  Risk_Duration        173 non-null    float64\n",
      " 42  Risk_Freq            1029 non-null   int64  \n",
      " 43  Risk_Quarantine      1029 non-null   int64  \n",
      " 44  survey               1029 non-null   int64  \n",
      " 45  ToP_Amount           1029 non-null   int64  \n",
      " 46  ToP_Freqency         1029 non-null   int64  \n",
      " 47  ToP_Inhouse          1029 non-null   int64  \n",
      " 48  ToP_Ratio            1029 non-null   int64  \n",
      " 49  Residence_County     421 non-null    object \n",
      "dtypes: float64(6), int64(40), object(4)\n",
      "memory usage: 402.1+ KB\n"
     ]
    }
   ],
   "source": [
    "data.info()"
   ]
  },
  {
   "cell_type": "code",
   "execution_count": 49,
   "metadata": {},
   "outputs": [
    {
     "name": "stdout",
     "output_type": "stream",
     "text": [
      "['tableau-colorblind10', 'bmh', 'seaborn-muted', 'seaborn-pastel', 'seaborn-deep', 'grayscale', 'classic', 'seaborn-whitegrid', 'seaborn-colorblind', 'seaborn-poster', 'seaborn-ticks', 'seaborn-notebook', 'seaborn-dark-palette', 'seaborn-white', 'ggplot', 'dark_background', 'seaborn-bright', 'seaborn', 'fast', 'fivethirtyeight', '_classic_test', 'Solarize_Light2', 'seaborn-talk', 'seaborn-paper', 'seaborn-dark', 'seaborn-darkgrid']\n"
     ]
    }
   ],
   "source": [
    "print(plt.style.available)"
   ]
  },
  {
   "cell_type": "code",
   "execution_count": 52,
   "metadata": {},
   "outputs": [
    {
     "data": {
      "text/plain": [
       "<matplotlib.axes._subplots.AxesSubplot at 0x7f89e8b1a090>"
      ]
     },
     "execution_count": 52,
     "metadata": {},
     "output_type": "execute_result"
    },
    {
     "data": {
      "image/png": "[encoded data removed]",
      "text/plain": [
       "<Figure size 1152x432 with 1 Axes>"
      ]
     },
     "metadata": {
      "needs_background": "light"
     },
     "output_type": "display_data"
    }
   ],
   "source": [
    "#Participants per country\n",
    "data['Nationality'].value_counts().sort_values(ascending=False).plot.bar(figsize=(16,6))"
   ]
  },
  {
   "cell_type": "markdown",
   "metadata": {},
   "source": [
    "The majority of participants is from Germany and the US."
   ]
  },
  {
   "cell_type": "code",
   "execution_count": 39,
   "metadata": {},
   "outputs": [
    {
     "data": {
      "text/plain": [
       "DE    619\n",
       "US    250\n",
       "GB     21\n",
       "CH     19\n",
       "CA     17\n",
       "AT     15\n",
       "FR     12\n",
       "ES      9\n",
       "TR      7\n",
       "NL      6\n",
       "BE      6\n",
       "AU      5\n",
       "BR      4\n",
       "IE      4\n",
       "IN      4\n",
       "IT      4\n",
       "SE      3\n",
       "CO      2\n",
       "PE      2\n",
       "GR      2\n",
       "UA      2\n",
       "IL      2\n",
       "SG      2\n",
       "GI      1\n",
       "RO      1\n",
       "RU      1\n",
       "AR      1\n",
       "ZA      1\n",
       "SK      1\n",
       "PT      1\n",
       "GT      1\n",
       "SI      1\n",
       "RS      1\n",
       "AF      1\n",
       "EG      1\n",
       "Name: Residence, dtype: int64"
      ]
     },
     "execution_count": 39,
     "metadata": {},
     "output_type": "execute_result"
    }
   ],
   "source": [
    "data['Residence'].value_counts(0)"
   ]
  }
 ],
 "metadata": {
  "kernelspec": {
   "display_name": "Python 3",
   "language": "python",
   "name": "python3"
  },
  "language_info": {
   "codemirror_mode": {
    "name": "ipython",
    "version": 3
   },
   "file_extension": ".py",
   "mimetype": "text/x-python",
   "name": "python",
   "nbconvert_exporter": "python",
   "pygments_lexer": "ipython3",
   "version": "3.7.6"
  }
 },
 "nbformat": 4,
 "nbformat_minor": 4
}
